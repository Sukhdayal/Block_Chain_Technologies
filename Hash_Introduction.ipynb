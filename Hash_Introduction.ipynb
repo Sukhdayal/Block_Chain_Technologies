{
 "cells": [
  {
   "cell_type": "code",
   "execution_count": 1,
   "id": "071c9768-9999-469a-92fe-6091a2c8ca39",
   "metadata": {},
   "outputs": [
    {
     "name": "stdin",
     "output_type": "stream",
     "text": [
      "Enter any text:  hello\n"
     ]
    },
    {
     "name": "stdout",
     "output_type": "stream",
     "text": [
      "\n",
      "Original Text:  hello\n",
      "SHA-256 Hash :  2cf24dba5fb0a30e26e83b2ac5b9e29e1b161e5c1fa7425e73043362938b9824\n"
     ]
    }
   ],
   "source": [
    "import hashlib  # Import the hashlib module\n",
    "\n",
    "# Take user input\n",
    "text = input(\"Enter any text: \")\n",
    "\n",
    "# Convert the text to bytes and hash it using SHA-256\n",
    "\n",
    "# Convert the input text to bytes using encode() (because hashing functions work on bytes, not strings),\n",
    "# then pass it to hashlib.sha256() to generate the hash object using the SHA-256 algorithm.\n",
    "# Finally, we call hexdigest() to get the hash value as a readable hexadecimal string (instead of raw bytes).\n",
    "hashed_value = hashlib.sha256(text.encode()).hexdigest()\n",
    "\n",
    "\n",
    "# Print the original and the hashed value\n",
    "print(\"\\nOriginal Text: \", text)\n",
    "print(\"SHA-256 Hash : \", hashed_value)\n"
   ]
  }
 ],
 "metadata": {
  "kernelspec": {
   "display_name": "Python 3 (ipykernel)",
   "language": "python",
   "name": "python3"
  },
  "language_info": {
   "codemirror_mode": {
    "name": "ipython",
    "version": 3
   },
   "file_extension": ".py",
   "mimetype": "text/x-python",
   "name": "python",
   "nbconvert_exporter": "python",
   "pygments_lexer": "ipython3",
   "version": "3.13.5"
  }
 },
 "nbformat": 4,
 "nbformat_minor": 5
}
