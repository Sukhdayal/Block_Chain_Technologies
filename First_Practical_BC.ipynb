{
 "cells": [
  {
   "cell_type": "code",
   "execution_count": 1,
   "id": "84c33ca6-c56d-4c10-b0c6-41ae860a759d",
   "metadata": {},
   "outputs": [
    {
     "name": "stdout",
     "output_type": "stream",
     "text": [
      "Block #0\n",
      "Timestamp: 2025-07-30 22:30:11.514248\n",
      "Data: Genesis Block\n",
      "Previous Hash: 0\n",
      "Current Hash : 544f3e831b5f379fc2debd017d16f9f41a73dacd93d90c01ad7063a20d40f63d\n",
      "----------------------------------------\n",
      "Block #1\n",
      "Timestamp: 2025-07-30 22:30:11.514291\n",
      "Data: First Block Data\n",
      "Previous Hash: 544f3e831b5f379fc2debd017d16f9f41a73dacd93d90c01ad7063a20d40f63d\n",
      "Current Hash : 26226dbe03e11123264bb557d9dd8d9364656b8c5be44568fb6731a064ca89bc\n",
      "----------------------------------------\n",
      "Block #2\n",
      "Timestamp: 2025-07-30 22:30:11.514301\n",
      "Data: Second Block Data\n",
      "Previous Hash: 26226dbe03e11123264bb557d9dd8d9364656b8c5be44568fb6731a064ca89bc\n",
      "Current Hash : 71d9c257d45fa0f72d0f7612f292029bd490fb6e72295a1649f14b32720aa424\n",
      "----------------------------------------\n",
      "Block #3\n",
      "Timestamp: 2025-07-30 22:30:11.514307\n",
      "Data: Third Block Data\n",
      "Previous Hash: 71d9c257d45fa0f72d0f7612f292029bd490fb6e72295a1649f14b32720aa424\n",
      "Current Hash : 822ee78229785718ec8da73a0beebb6566285eff7176b375a553f06bf2583aab\n",
      "----------------------------------------\n"
     ]
    }
   ],
   "source": [
    "# Import required libraries\n",
    "import hashlib\n",
    "import datetime\n",
    "\n",
    "# Define a Block class\n",
    "class Block:\n",
    "    def __init__(self, index, data, prev_hash):\n",
    "        self.index = index                           # Position of block in the chain\n",
    "        self.timestamp = str(datetime.datetime.now())# Timestamp of block creation\n",
    "        self.data = data                             # Block data (e.g., transactions)\n",
    "        self.prev_hash = prev_hash                   # Hash of the previous block\n",
    "        self.hash = self.calculate_hash()            # Hash of this block\n",
    "\n",
    "    # Method to calculate hash of the block\n",
    "    def calculate_hash(self):\n",
    "        content = str(self.index) + self.timestamp + self.data + self.prev_hash\n",
    "        return hashlib.sha256(content.encode()).hexdigest()\n",
    "\n",
    "# Define a Blockchain class\n",
    "class Blockchain:\n",
    "    def __init__(self):\n",
    "        self.chain = [self.create_genesis_block()]   # Initialize blockchain with genesis block\n",
    "\n",
    "    # Create the first block\n",
    "    def create_genesis_block(self):\n",
    "        return Block(0, \"Genesis Block\", \"0\")\n",
    "\n",
    "    # Get latest block in the chain\n",
    "    def get_latest_block(self):\n",
    "        return self.chain[-1]\n",
    "\n",
    "    # Add a new block to the chain\n",
    "    def add_block(self, new_data):\n",
    "        last_block = self.get_latest_block()\n",
    "        new_block = Block(len(self.chain), new_data, last_block.hash)\n",
    "        self.chain.append(new_block)\n",
    "\n",
    "    # Print the entire chain\n",
    "    def print_chain(self):\n",
    "        for block in self.chain:\n",
    "            print(f\"Block #{block.index}\")\n",
    "            print(f\"Timestamp: {block.timestamp}\")\n",
    "            print(f\"Data: {block.data}\")\n",
    "            print(f\"Previous Hash: {block.prev_hash}\")\n",
    "            print(f\"Current Hash : {block.hash}\")\n",
    "            print(\"-\" * 40)\n",
    "\n",
    "# Main function to test the blockchain\n",
    "if __name__ == \"__main__\":\n",
    "    my_blockchain = Blockchain()               # Create blockchain\n",
    "\n",
    "    # Add blocks with sample data\n",
    "    my_blockchain.add_block(\"First Block Data\")\n",
    "    my_blockchain.add_block(\"Second Block Data\")\n",
    "    my_blockchain.add_block(\"Third Block Data\")\n",
    "\n",
    "    # Print the blockchain\n",
    "    my_blockchain.print_chain()"
   ]
  },
  {
   "cell_type": "code",
   "execution_count": null,
   "id": "4595b4b2-f191-4386-8bb3-2cd039e653fd",
   "metadata": {},
   "outputs": [],
   "source": []
  },
  {
   "cell_type": "code",
   "execution_count": null,
   "id": "e78bc51e-1cba-457d-9b68-ed0e50fcb336",
   "metadata": {},
   "outputs": [],
   "source": []
  },
  {
   "cell_type": "code",
   "execution_count": null,
   "id": "35ef0599-d96a-4427-8718-8bc27505ff2d",
   "metadata": {},
   "outputs": [],
   "source": []
  },
  {
   "cell_type": "code",
   "execution_count": null,
   "id": "5ac160fb-7800-4a63-b856-c920514d353e",
   "metadata": {},
   "outputs": [],
   "source": []
  },
  {
   "cell_type": "code",
   "execution_count": null,
   "id": "8fced46f-f5d7-42b3-8b2b-3441826419c5",
   "metadata": {},
   "outputs": [],
   "source": []
  }
 ],
 "metadata": {
  "kernelspec": {
   "display_name": "Python 3 (ipykernel)",
   "language": "python",
   "name": "python3"
  },
  "language_info": {
   "codemirror_mode": {
    "name": "ipython",
    "version": 3
   },
   "file_extension": ".py",
   "mimetype": "text/x-python",
   "name": "python",
   "nbconvert_exporter": "python",
   "pygments_lexer": "ipython3",
   "version": "3.13.5"
  }
 },
 "nbformat": 4,
 "nbformat_minor": 5
}
